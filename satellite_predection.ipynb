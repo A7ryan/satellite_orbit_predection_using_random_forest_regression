{
 "cells": [
  {
   "cell_type": "code",
   "execution_count": 1,
   "metadata": {},
   "outputs": [],
   "source": [
    "# Author: Aryan Pandya\n",
    "# Problem Statement: Open Innovation"
   ]
  },
  {
   "cell_type": "code",
   "execution_count": 1,
   "metadata": {},
   "outputs": [],
   "source": [
    "# Importing required Libraries\n",
    "import pandas as pd\n",
    "import numpy as np\n",
    "from sklearn.model_selection import train_test_split\n",
    "from sklearn.ensemble import RandomForestRegressor\n",
    "from sklearn.metrics import mean_squared_error\n",
    "from sklearn.preprocessing import LabelEncoder\n",
    "import matplotlib.pyplot as plt"
   ]
  },
  {
   "cell_type": "code",
   "execution_count": 2,
   "metadata": {},
   "outputs": [],
   "source": [
    "# Read the dataset\n",
    "df = pd.read_csv('satellite_orbit.csv')\n",
    "\n",
    "# Remove null values\n",
    "df = df.dropna()\n",
    "\n",
    "# View top 5 Rows:\n",
    "# df.head()"
   ]
  },
  {
   "cell_type": "code",
   "execution_count": 4,
   "metadata": {},
   "outputs": [],
   "source": [
    "# To check no of rows and columns\n",
    "# df.shape"
   ]
  },
  {
   "cell_type": "code",
   "execution_count": 3,
   "metadata": {},
   "outputs": [],
   "source": [
    "# The Object_Id Column in Dataset is in String \n",
    "# But we want it for future use\n",
    "# So we need to transform it (convert) into int/float \n",
    "\n",
    "# Ref 1: https://scikit-learn.org/stable/modules/generated/sklearn.preprocessing.LabelEncoder.html\n",
    "# Ref 2: https://www.geeksforgeeks.org/ml-label-encoding-of-datasets-in-python/\n",
    "\n",
    "Le = LabelEncoder()\n",
    "df['SAT_ID'] = Le.fit_transform(df['OBJECT_ID'])\n",
    "\n",
    "# A new Column SAT_ID is added to dataset"
   ]
  },
  {
   "cell_type": "code",
   "execution_count": 5,
   "metadata": {},
   "outputs": [],
   "source": [
    "# Some Rows contains value which are either string or null(zeros) / no use. So we will drop them\n",
    "\n",
    "df = df.drop(df.columns[[0, 1, 2, 9, 10, 16]], axis=1)\n",
    "\n",
    "# Check Dimension of Dataset:\n",
    "# df.shape\n",
    "\n",
    "# Check top 5 Rows\n",
    "# df.head()"
   ]
  },
  {
   "cell_type": "code",
   "execution_count": 6,
   "metadata": {},
   "outputs": [],
   "source": [
    "# Prediction using 'Mean_Motion' of Satellites\n",
    "\n",
    "x = df.drop(columns=['MEAN_MOTION'])\n",
    "y = df['MEAN_MOTION']"
   ]
  },
  {
   "cell_type": "code",
   "execution_count": 7,
   "metadata": {},
   "outputs": [],
   "source": [
    "# random_state: https://medium.com/mlearning-ai/what-the-heck-is-random-state-24a7a8389f3d\n",
    "\n",
    "X_train, X_test, y_train, y_test = train_test_split(x, y, test_size=0.2, random_state=42)"
   ]
  },
  {
   "cell_type": "code",
   "execution_count": 8,
   "metadata": {},
   "outputs": [
    {
     "data": {
      "text/html": [
       "<style>#sk-container-id-1 {color: black;}#sk-container-id-1 pre{padding: 0;}#sk-container-id-1 div.sk-toggleable {background-color: white;}#sk-container-id-1 label.sk-toggleable__label {cursor: pointer;display: block;width: 100%;margin-bottom: 0;padding: 0.3em;box-sizing: border-box;text-align: center;}#sk-container-id-1 label.sk-toggleable__label-arrow:before {content: \"▸\";float: left;margin-right: 0.25em;color: #696969;}#sk-container-id-1 label.sk-toggleable__label-arrow:hover:before {color: black;}#sk-container-id-1 div.sk-estimator:hover label.sk-toggleable__label-arrow:before {color: black;}#sk-container-id-1 div.sk-toggleable__content {max-height: 0;max-width: 0;overflow: hidden;text-align: left;background-color: #f0f8ff;}#sk-container-id-1 div.sk-toggleable__content pre {margin: 0.2em;color: black;border-radius: 0.25em;background-color: #f0f8ff;}#sk-container-id-1 input.sk-toggleable__control:checked~div.sk-toggleable__content {max-height: 200px;max-width: 100%;overflow: auto;}#sk-container-id-1 input.sk-toggleable__control:checked~label.sk-toggleable__label-arrow:before {content: \"▾\";}#sk-container-id-1 div.sk-estimator input.sk-toggleable__control:checked~label.sk-toggleable__label {background-color: #d4ebff;}#sk-container-id-1 div.sk-label input.sk-toggleable__control:checked~label.sk-toggleable__label {background-color: #d4ebff;}#sk-container-id-1 input.sk-hidden--visually {border: 0;clip: rect(1px 1px 1px 1px);clip: rect(1px, 1px, 1px, 1px);height: 1px;margin: -1px;overflow: hidden;padding: 0;position: absolute;width: 1px;}#sk-container-id-1 div.sk-estimator {font-family: monospace;background-color: #f0f8ff;border: 1px dotted black;border-radius: 0.25em;box-sizing: border-box;margin-bottom: 0.5em;}#sk-container-id-1 div.sk-estimator:hover {background-color: #d4ebff;}#sk-container-id-1 div.sk-parallel-item::after {content: \"\";width: 100%;border-bottom: 1px solid gray;flex-grow: 1;}#sk-container-id-1 div.sk-label:hover label.sk-toggleable__label {background-color: #d4ebff;}#sk-container-id-1 div.sk-serial::before {content: \"\";position: absolute;border-left: 1px solid gray;box-sizing: border-box;top: 0;bottom: 0;left: 50%;z-index: 0;}#sk-container-id-1 div.sk-serial {display: flex;flex-direction: column;align-items: center;background-color: white;padding-right: 0.2em;padding-left: 0.2em;position: relative;}#sk-container-id-1 div.sk-item {position: relative;z-index: 1;}#sk-container-id-1 div.sk-parallel {display: flex;align-items: stretch;justify-content: center;background-color: white;position: relative;}#sk-container-id-1 div.sk-item::before, #sk-container-id-1 div.sk-parallel-item::before {content: \"\";position: absolute;border-left: 1px solid gray;box-sizing: border-box;top: 0;bottom: 0;left: 50%;z-index: -1;}#sk-container-id-1 div.sk-parallel-item {display: flex;flex-direction: column;z-index: 1;position: relative;background-color: white;}#sk-container-id-1 div.sk-parallel-item:first-child::after {align-self: flex-end;width: 50%;}#sk-container-id-1 div.sk-parallel-item:last-child::after {align-self: flex-start;width: 50%;}#sk-container-id-1 div.sk-parallel-item:only-child::after {width: 0;}#sk-container-id-1 div.sk-dashed-wrapped {border: 1px dashed gray;margin: 0 0.4em 0.5em 0.4em;box-sizing: border-box;padding-bottom: 0.4em;background-color: white;}#sk-container-id-1 div.sk-label label {font-family: monospace;font-weight: bold;display: inline-block;line-height: 1.2em;}#sk-container-id-1 div.sk-label-container {text-align: center;}#sk-container-id-1 div.sk-container {/* jupyter's `normalize.less` sets `[hidden] { display: none; }` but bootstrap.min.css set `[hidden] { display: none !important; }` so we also need the `!important` here to be able to override the default hidden behavior on the sphinx rendered scikit-learn.org. See: https://github.com/scikit-learn/scikit-learn/issues/21755 */display: inline-block !important;position: relative;}#sk-container-id-1 div.sk-text-repr-fallback {display: none;}</style><div id=\"sk-container-id-1\" class=\"sk-top-container\"><div class=\"sk-text-repr-fallback\"><pre>RandomForestRegressor()</pre><b>In a Jupyter environment, please rerun this cell to show the HTML representation or trust the notebook. <br />On GitHub, the HTML representation is unable to render, please try loading this page with nbviewer.org.</b></div><div class=\"sk-container\" hidden><div class=\"sk-item\"><div class=\"sk-estimator sk-toggleable\"><input class=\"sk-toggleable__control sk-hidden--visually\" id=\"sk-estimator-id-1\" type=\"checkbox\" checked><label for=\"sk-estimator-id-1\" class=\"sk-toggleable__label sk-toggleable__label-arrow\">RandomForestRegressor</label><div class=\"sk-toggleable__content\"><pre>RandomForestRegressor()</pre></div></div></div></div></div>"
      ],
      "text/plain": [
       "RandomForestRegressor()"
      ]
     },
     "execution_count": 8,
     "metadata": {},
     "output_type": "execute_result"
    }
   ],
   "source": [
    "# Why Random Forest Regressor: https://neptune.ai/blog/random-forest-regression-when-does-it-fail-and-why\n",
    "\n",
    "model = RandomForestRegressor()\n",
    "model.fit(X_train, y_train)"
   ]
  },
  {
   "cell_type": "code",
   "execution_count": 9,
   "metadata": {},
   "outputs": [],
   "source": [
    "# Mean Squared Error: \n",
    "# https://medium.com/analytics-vidhya/mae-mse-rmse-coefficient-of-determination-adjusted-r-squared-which-metric-is-better-cd0326a5697e \n",
    "\n",
    "y_pred = model.predict(X_test)\n",
    "mse = mean_squared_error(y_test, y_pred)\n",
    "\n",
    "# The Low MSE, more better the prediction\n",
    "# print(mse)"
   ]
  },
  {
   "cell_type": "code",
   "execution_count": 10,
   "metadata": {},
   "outputs": [
    {
     "data": {
      "image/png": "[encoded data removed]",
      "text/plain": [
       "<Figure size 640x480 with 1 Axes>"
      ]
     },
     "metadata": {},
     "output_type": "display_data"
    }
   ],
   "source": [
    "# Creating a Scatter Plot \n",
    "# https://medium.com/@row3no6/scatter-plot-visualization-and-relationship-in-python-39729bb0e4df\n",
    "# https://www.kaggle.com/code/alexisbcook/scatter-plots\n",
    "# https://www.geeksforgeeks.org/matplotlib-pyplot-legend-in-python/\n",
    "\n",
    "# The Dimension of X_test and y_test/y_pred are different. Solved by 'X_test.index'\n",
    "plt.scatter([X_test.index], y_test, label='Actual Path')\n",
    "plt.scatter([X_test.index], y_pred, label='Predicted Path')\n",
    "\n",
    "plt.xlabel('Satellite ID')\n",
    "plt.ylabel('Mean Motion')\n",
    "plt.title('Actual vs Predicted Path for Satellite Orbit Using Random Forest')\n",
    "plt.legend()\n",
    "plt.show()"
   ]
  },
  {
   "cell_type": "code",
   "execution_count": null,
   "metadata": {},
   "outputs": [],
   "source": [
    "# NOTE: We have more than 9000 rows (data) so its not possible to view them properly.\n",
    "# I'm not sure of other methods as for now\n",
    "# So What I will do is:\n",
    "# i. Calculate the difference of actual vs predected path\n",
    "# ii. Store and add it as new column to dataset"
   ]
  },
  {
   "cell_type": "code",
   "execution_count": 11,
   "metadata": {},
   "outputs": [],
   "source": [
    "# Now we want the difference for Satellite path\n",
    "orbit_change_diff = abs(y_pred - y_test)\n",
    "df['test'] = orbit_change_diff\n",
    "\n",
    "# Run NExt Step Now\n",
    "\n",
    "# So new column test is added\n",
    "# Look values in it\n",
    "# NOTE: If the value is NaN that Means our model is perfect & actual value is same as predicted\n",
    "# If it shows random value means there is difference in path\n",
    "# The more big value means more difference in orbit path"
   ]
  },
  {
   "cell_type": "code",
   "execution_count": 12,
   "metadata": {},
   "outputs": [
    {
     "data": {
      "text/html": [
       "<div>\n",
       "<style scoped>\n",
       "    .dataframe tbody tr th:only-of-type {\n",
       "        vertical-align: middle;\n",
       "    }\n",
       "\n",
       "    .dataframe tbody tr th {\n",
       "        vertical-align: top;\n",
       "    }\n",
       "\n",
       "    .dataframe thead th {\n",
       "        text-align: right;\n",
       "    }\n",
       "</style>\n",
       "<table border=\"1\" class=\"dataframe\">\n",
       "  <thead>\n",
       "    <tr style=\"text-align: right;\">\n",
       "      <th></th>\n",
       "      <th>MEAN_MOTION</th>\n",
       "      <th>ECCENTRICITY</th>\n",
       "      <th>INCLINATION</th>\n",
       "      <th>RA_OF_ASC_NODE</th>\n",
       "      <th>ARG_OF_PERICENTER</th>\n",
       "      <th>MEAN_ANOMALY</th>\n",
       "      <th>NORAD_CAT_ID</th>\n",
       "      <th>ELEMENT_SET_NO</th>\n",
       "      <th>REV_AT_EPOCH</th>\n",
       "      <th>BSTAR</th>\n",
       "      <th>MEAN_MOTION_DOT</th>\n",
       "      <th>SAT_ID</th>\n",
       "      <th>test</th>\n",
       "    </tr>\n",
       "  </thead>\n",
       "  <tbody>\n",
       "    <tr>\n",
       "      <th>0</th>\n",
       "      <td>13.746771</td>\n",
       "      <td>0.002778</td>\n",
       "      <td>90.1972</td>\n",
       "      <td>51.6338</td>\n",
       "      <td>157.8025</td>\n",
       "      <td>264.3186</td>\n",
       "      <td>900</td>\n",
       "      <td>999</td>\n",
       "      <td>94643</td>\n",
       "      <td>0.000920</td>\n",
       "      <td>8.850000e-06</td>\n",
       "      <td>0</td>\n",
       "      <td>0.707992</td>\n",
       "    </tr>\n",
       "    <tr>\n",
       "      <th>1</th>\n",
       "      <td>13.527751</td>\n",
       "      <td>0.001799</td>\n",
       "      <td>90.2127</td>\n",
       "      <td>55.1051</td>\n",
       "      <td>354.0467</td>\n",
       "      <td>132.6594</td>\n",
       "      <td>902</td>\n",
       "      <td>999</td>\n",
       "      <td>73329</td>\n",
       "      <td>0.000099</td>\n",
       "      <td>7.400000e-07</td>\n",
       "      <td>1</td>\n",
       "      <td>NaN</td>\n",
       "    </tr>\n",
       "    <tr>\n",
       "      <th>2</th>\n",
       "      <td>9.893046</td>\n",
       "      <td>0.000487</td>\n",
       "      <td>32.1350</td>\n",
       "      <td>180.8629</td>\n",
       "      <td>65.6963</td>\n",
       "      <td>294.4042</td>\n",
       "      <td>1361</td>\n",
       "      <td>999</td>\n",
       "      <td>11963</td>\n",
       "      <td>-0.000988</td>\n",
       "      <td>1.000000e-08</td>\n",
       "      <td>2</td>\n",
       "      <td>NaN</td>\n",
       "    </tr>\n",
       "    <tr>\n",
       "      <th>3</th>\n",
       "      <td>13.334986</td>\n",
       "      <td>0.006813</td>\n",
       "      <td>89.9436</td>\n",
       "      <td>214.9242</td>\n",
       "      <td>283.0738</td>\n",
       "      <td>143.5962</td>\n",
       "      <td>1512</td>\n",
       "      <td>999</td>\n",
       "      <td>83883</td>\n",
       "      <td>0.000081</td>\n",
       "      <td>4.900000e-07</td>\n",
       "      <td>3</td>\n",
       "      <td>0.136801</td>\n",
       "    </tr>\n",
       "    <tr>\n",
       "      <th>4</th>\n",
       "      <td>13.360174</td>\n",
       "      <td>0.007014</td>\n",
       "      <td>89.9584</td>\n",
       "      <td>128.8841</td>\n",
       "      <td>147.9138</td>\n",
       "      <td>337.7682</td>\n",
       "      <td>1520</td>\n",
       "      <td>999</td>\n",
       "      <td>84128</td>\n",
       "      <td>0.000281</td>\n",
       "      <td>1.550000e-06</td>\n",
       "      <td>4</td>\n",
       "      <td>NaN</td>\n",
       "    </tr>\n",
       "  </tbody>\n",
       "</table>\n",
       "</div>"
      ],
      "text/plain": [
       "   MEAN_MOTION  ECCENTRICITY  INCLINATION  RA_OF_ASC_NODE  ARG_OF_PERICENTER  \\\n",
       "0    13.746771      0.002778      90.1972         51.6338           157.8025   \n",
       "1    13.527751      0.001799      90.2127         55.1051           354.0467   \n",
       "2     9.893046      0.000487      32.1350        180.8629            65.6963   \n",
       "3    13.334986      0.006813      89.9436        214.9242           283.0738   \n",
       "4    13.360174      0.007014      89.9584        128.8841           147.9138   \n",
       "\n",
       "   MEAN_ANOMALY  NORAD_CAT_ID  ELEMENT_SET_NO  REV_AT_EPOCH     BSTAR  \\\n",
       "0      264.3186           900             999         94643  0.000920   \n",
       "1      132.6594           902             999         73329  0.000099   \n",
       "2      294.4042          1361             999         11963 -0.000988   \n",
       "3      143.5962          1512             999         83883  0.000081   \n",
       "4      337.7682          1520             999         84128  0.000281   \n",
       "\n",
       "   MEAN_MOTION_DOT  SAT_ID      test  \n",
       "0     8.850000e-06       0  0.707992  \n",
       "1     7.400000e-07       1       NaN  \n",
       "2     1.000000e-08       2       NaN  \n",
       "3     4.900000e-07       3  0.136801  \n",
       "4     1.550000e-06       4       NaN  "
      ]
     },
     "execution_count": 12,
     "metadata": {},
     "output_type": "execute_result"
    }
   ],
   "source": [
    "# you can run this code and check last column added as 'test'\n",
    "df.head()"
   ]
  },
  {
   "cell_type": "code",
   "execution_count": 13,
   "metadata": {},
   "outputs": [],
   "source": [
    "# Check top 5 rows\n",
    "#df.head()\n",
    "\n",
    "# check top and last 5 rows (data)\n",
    "# df"
   ]
  },
  {
   "cell_type": "code",
   "execution_count": null,
   "metadata": {},
   "outputs": [],
   "source": [
    "# ---------------------------------------------ADDITIONAL INFORMATION---------------------------------------"
   ]
  },
  {
   "cell_type": "code",
   "execution_count": null,
   "metadata": {},
   "outputs": [],
   "source": [
    "# However this model does not guarentee 99% realiability\n",
    "# This was just as basic model\n",
    "# We have different column like inclination, mean_motion, arg_of_pericenter etc.\n",
    "# Using which new algorithm can be formed and even there are chance we can find real time Location\n",
    "\n",
    "# Conclusion: Many work coud be made on this model, applying different algorithms\n",
    "# I would be happy to modify it in future and work on it.."
   ]
  }
 ],
 "metadata": {
  "kernelspec": {
   "display_name": "Python 3",
   "language": "python",
   "name": "python3"
  },
  "language_info": {
   "codemirror_mode": {
    "name": "ipython",
    "version": 3
   },
   "file_extension": ".py",
   "mimetype": "text/x-python",
   "name": "python",
   "nbconvert_exporter": "python",
   "pygments_lexer": "ipython3",
   "version": "3.11.7"
  },
  "orig_nbformat": 4
 },
 "nbformat": 4,
 "nbformat_minor": 2
}
